{
 "cells": [
  {
   "attachments": {},
   "cell_type": "markdown",
   "metadata": {},
   "source": [
    "After install dependancies"
   ]
  },
  {
   "cell_type": "code",
   "execution_count": null,
   "metadata": {},
   "outputs": [],
   "source": [
    "pip install selenium"
   ]
  },
  {
   "cell_type": "code",
   "execution_count": null,
   "metadata": {},
   "outputs": [],
   "source": [
    "pip install pandas"
   ]
  },
  {
   "cell_type": "code",
   "execution_count": null,
   "metadata": {},
   "outputs": [],
   "source": [
    "import pandas as pd\n",
    "import openpyxl\n",
    "from openpyxl import Workbook\n",
    "from selenium import webdriver\n",
    "from selenium.webdriver.common.by import By\n",
    "from selenium.webdriver.support.ui import WebDriverWait\n",
    "from selenium.webdriver.support import expected_conditions as EC\n",
    "from selenium.webdriver.chrome.service import Service\n",
    "from selenium.common.exceptions import TimeoutException\n",
    "import time"
   ]
  },
  {
   "cell_type": "code",
   "execution_count": null,
   "metadata": {},
   "outputs": [],
   "source": [
    "# Start the webdriver and navigate to the website\n",
    "path = '/chromedriver'\n",
    "driver = webdriver.Chrome(service=Service(path))\n",
    "driver.get(\"https://www.veikkaus.fi/fi/vedonlyonti/pitkaveto?t=1-2-1_Englanti%3B1-2-8_Englanti%3B1-2-7_Englanti%3B1-2-2_Englanti%3B1-2-3_Englanti%3B1-2-4_Englanti%3B1-2-9_Englanti%3B1-2-15_Englanti\")\n",
    "\n",
    "\n",
    "#Accept Coookies consent\n",
    "cookie_consent_button = WebDriverWait(driver, 10).until(\n",
    "    EC.element_to_be_clickable((By.XPATH, \"//div[@class='iOMuvDyuoMKpVRzmevldA3KUmWI2t3RJ Modal-module_modal__2u5Eo Modal-module_compact__28k8e']/div[2]/button[1]/div[1]/span\")))\n",
    "cookie_consent_button.click()\n",
    "\n",
    "driver.refresh()\n",
    "\n",
    "\n",
    "home_team_list = []\n",
    "away_team_list = []\n",
    "players_names_list = []\n",
    "odds_list = []\n",
    "\n",
    "# Find all buttons to click on to get to the odds page\n",
    "odds_buttons = WebDriverWait(driver, 10).until(\n",
    "    EC.presence_of_all_elements_located((By.XPATH, \"//div[@class='pitkaveto-subpage-game-row__bets--extra']/button[1]\")))\n",
    "\n",
    "for i in range(len(odds_buttons)):  \n",
    "    odds_buttons[i].click()\n",
    "\n",
    "    # Wait for the page to load\n",
    "    time.sleep(3)\n",
    "\n",
    "    # Get the home team and away team names\n",
    "    home_team = WebDriverWait(driver, 10).until(\n",
    "        EC.presence_of_element_located((By.XPATH, \"//div[@class='header-event-title']/h1/span[1]\"))).text\n",
    "    away_team = WebDriverWait(driver, 10).until(\n",
    "        EC.presence_of_element_located((By.XPATH, \"//div[@class='header-event-title']/h1/span[2]\"))).text\n",
    "\n",
    "    # Print the home team and away team names\n",
    "    print(f\"{home_team} vs {away_team}\")\n",
    "\n",
    "    try:\n",
    "        # Click on the \"Pelaajakohteet\" button to view player props\n",
    "        player_props_button = WebDriverWait(driver, 10).until(\n",
    "            EC.element_to_be_clickable((By.XPATH, \"//button[contains(text(), 'Pelaajakohteet')]\")))\n",
    "        player_props_button.click()\n",
    "\n",
    "        # Wait for the player props to load\n",
    "        time.sleep(3)\n",
    "\n",
    "        # Get the names and odds of the players\n",
    "        player_names = WebDriverWait(driver, 10).until(\n",
    "            EC.presence_of_all_elements_located((By.XPATH, \"//div[@class='pitkaveto-subpage-sub-rows__content--cards']/div[3]/div[2]/div[1]/div[1]/button/div/span[1]\")))\n",
    "        player_odds = WebDriverWait(driver, 10).until(\n",
    "            EC.presence_of_all_elements_located((By.XPATH, \"//div[@class='pitkaveto-subpage-sub-rows__content--cards']/div[3]/div[2]/div[1]/div[1]/button/div/span[2]\")))\n",
    "\n",
    "        # Print the names and odds of the players\n",
    "        for j in range(len(player_names)):\n",
    "            print(f\"{player_names[j].text}: {player_odds[j].text}\")\n",
    "    except:\n",
    "        # If there are no player props available, print a message\n",
    "        print(\"No player props available\")\n",
    "    \n",
    "\n",
    "    # Go back to the previous page\n",
    "    driver.execute_script(\"window.history.go(-1)\")\n",
    "\n",
    "    # Wait for the page to load\n",
    "    time.sleep(3)\n",
    "\n",
    "    # Find all the odds buttons again\n",
    "    odds_buttons = WebDriverWait(driver, 10).until(\n",
    "        EC.presence_of_all_elements_located((By.XPATH, \"//div[@class='pitkaveto-subpage-game-row__bets--extra']/button[1]\")))\n",
    "\n",
    "# Close the browser\n",
    "driver.quit()\n"
   ]
  },
  {
   "cell_type": "code",
   "execution_count": null,
   "metadata": {},
   "outputs": [],
   "source": [
    "mydikt={'player':players_names_list,'Odds':odds_list}\n",
    "df=pd.DataFrame.from_dict(mydikt)\n",
    "df.to_excel('scoringodds.xlsx',index=False)\n",
    "df"
   ]
  }
 ],
 "metadata": {
  "kernelspec": {
   "display_name": "Python 3",
   "language": "python",
   "name": "python3"
  },
  "language_info": {
   "codemirror_mode": {
    "name": "ipython",
    "version": 3
   },
   "file_extension": ".py",
   "mimetype": "text/x-python",
   "name": "python",
   "nbconvert_exporter": "python",
   "pygments_lexer": "ipython3",
   "version": "3.11.2"
  },
  "orig_nbformat": 4,
  "vscode": {
   "interpreter": {
    "hash": "e8fe62228cbe52e3fcf11f99a91f04866055d9f3ffc78f20b43cfcf0e8552041"
   }
  }
 },
 "nbformat": 4,
 "nbformat_minor": 2
}
