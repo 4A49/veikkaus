{
 "cells": [
  {
   "attachments": {},
   "cell_type": "markdown",
   "metadata": {},
   "source": [
    "After install dependancies"
   ]
  },
  {
   "cell_type": "code",
   "execution_count": null,
   "metadata": {},
   "outputs": [],
   "source": [
    "pip install selenium"
   ]
  },
  {
   "cell_type": "code",
   "execution_count": null,
   "metadata": {},
   "outputs": [],
   "source": [
    "pip install pandas"
   ]
  },
  {
   "cell_type": "code",
   "execution_count": null,
   "metadata": {},
   "outputs": [],
   "source": [
    "import pandas as pd\n",
    "import openpyxl\n",
    "from openpyxl import Workbook\n",
    "from selenium import webdriver\n",
    "from selenium.webdriver.common.by import By\n",
    "from selenium.webdriver.support.ui import WebDriverWait\n",
    "from selenium.webdriver.support import expected_conditions as EC\n",
    "from selenium.webdriver.chrome.service import Service\n",
    "from csv import DictReader\n",
    "import json\n",
    "import discord\n",
    "import time\n",
    "import pytest"
   ]
  },
  {
   "cell_type": "code",
   "execution_count": null,
   "metadata": {},
   "outputs": [],
   "source": [
    "\n",
    "# Start the webdriver and navigate to the website\n",
    "path = '/chromedriver'\n",
    "driver = webdriver.Chrome(path)\n",
    "driver.get(\"https://www.veikkaus.fi/fi/vedonlyonti/pitkaveto?t=1-2-1_Englanti%3B1-2-8_Englanti%3B1-2-7_Englanti%3B1-2-2_Englanti%3B1-2-3_Englanti%3B1-2-4_Englanti%3B1-2-9_Englanti%3B1-2-15_Englanti\")\n",
    "\n",
    "\n",
    "#Accept Coookies consent\n",
    "cookie_consent_button = WebDriverWait(driver, 10).until(\n",
    "    EC.element_to_be_clickable((By.XPATH, \"//div[@class='iOMuvDyuoMKpVRzmevldA3KUmWI2t3RJ Modal-module_modal__2u5Eo Modal-module_compact__28k8e']/div[2]/button[1]/div[1]/span\")))\n",
    "cookie_consent_button.click()\n",
    "\n",
    "driver.refresh()\n",
    "\n",
    "# Initialize lists to hold the data\n",
    "home_team_list = []\n",
    "away_team_list=[]\n",
    "home_win_odds_list = []\n",
    "draw_odds_list = []\n",
    "away_win_odds_list = []\n",
    "\n",
    "\n",
    "# Find all buttons to click on to get to the odds page\n",
    "odds_buttons = WebDriverWait(driver, 10).until(\n",
    "    EC.presence_of_all_elements_located((By.XPATH, \"//div[@class='pitkaveto-subpage-game-row__bets--extra']/button[1]\")))\n",
    "  \n",
    "\n",
    "# Iterate through the list of odds buttons and click on each one\n",
    "for i in range(len(odds_buttons)):\n",
    "    # Click on the current odds button\n",
    "    odds_buttons[i].click()\n",
    "\n",
    "\n",
    "    #get the playing teams\n",
    "    \n",
    "    home_team_list.append(WebDriverWait(driver, 10).until(\n",
    "        EC.presence_of_all_elements_located((By.XPATH, \"//div[@class='header-event-title']/h1/span[1]\")))[0].text)\n",
    "    \n",
    "    away_team_list.append(WebDriverWait(driver, 10).until(\n",
    "        EC.presence_of_all_elements_located((By.XPATH, \"//div[@class='header-event-title']/h1/span[2]\")))[0].text)\n",
    "    \n",
    "\n",
    "    #click halftime(puoliajat ) link\n",
    "    half_time_button = WebDriverWait(driver, 10).until(\n",
    "        EC.element_to_be_clickable((By.XPATH, \"//div[@class='pitkaveto-subpage-sub-rows__filters']/button[4]\")))\n",
    "    half_time_button.click()\n",
    "        \n",
    "        \n",
    "    #get the odds of 1X2 2nd half\n",
    "\n",
    "    home_win_odds_list.append(WebDriverWait(driver, 10).until(\n",
    "        EC.presence_of_all_elements_located((By.XPATH, \"//div[@class='pitkaveto-subpage-sub-rows__content--cards']/div[4]/div[2]/div[1]/div[1]/button[1]/div[1]/span[2]\")))[0].text)\n",
    "    \n",
    "    draw_odds_list.append(WebDriverWait(driver, 10).until(\n",
    "        EC.presence_of_all_elements_located((By.XPATH, \"//div[@class='pitkaveto-subpage-sub-rows__content--cards']/div[4]/div[2]/div[1]/div[1]/button[2]/div[1]/span[2]\")))[0].text)\n",
    "    \n",
    "    away_win_odds_list.append(WebDriverWait(driver, 10).until(\n",
    "        EC.presence_of_all_elements_located((By.XPATH, \"//div[@class='pitkaveto-subpage-sub-rows__content--cards']/div[4]/div[2]/div[1]/div[1]/button[3]/div[1]/span[2]\")))[0].text)\n",
    "\n",
    "    driver.back()\n",
    "    # Wait for the odds buttons to reappear on the main page\n",
    "    odds_buttons = WebDriverWait(driver, 10).until(\n",
    "        EC.presence_of_all_elements_located((By.XPATH, \"//div[@class='pitkaveto-subpage-game-row__bets--extra']/button[1]\")))\n",
    "\n",
    "\n",
    "# Create a pandas dataframe with the collected data\n",
    "data = {'Home': home_team_list,'Away': away_team_list, '1': home_win_odds_list,'X':draw_odds_list,'2':away_win_odds_list}\n",
    "df = pd.DataFrame(data)\n",
    "df.to_excel('2ndhalf.xlsx', index=False)\n",
    "\n",
    "# Print the dataframe (optional)\n",
    "print(df)\n",
    "\n",
    "\n",
    "\n",
    "driver.quit()\n"
   ]
  }
 ],
 "metadata": {
  "kernelspec": {
   "display_name": "Python 3",
   "language": "python",
   "name": "python3"
  },
  "language_info": {
   "codemirror_mode": {
    "name": "ipython",
    "version": 3
   },
   "file_extension": ".py",
   "mimetype": "text/x-python",
   "name": "python",
   "nbconvert_exporter": "python",
   "pygments_lexer": "ipython3",
   "version": "3.10.8"
  },
  "orig_nbformat": 4,
  "vscode": {
   "interpreter": {
    "hash": "369f2c481f4da34e4445cda3fffd2e751bd1c4d706f27375911949ba6bb62e1c"
   }
  }
 },
 "nbformat": 4,
 "nbformat_minor": 2
}
